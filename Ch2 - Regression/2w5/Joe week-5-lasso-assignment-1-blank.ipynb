{
 "cells": [
  {
   "cell_type": "markdown",
   "metadata": {},
   "source": [
    "# Regression Week 5: Feature Selection and LASSO (Interpretation)"
   ]
  },
  {
   "cell_type": "markdown",
   "metadata": {},
   "source": [
    "In this notebook, you will use LASSO to select features, building on a pre-implemented solver for LASSO (using GraphLab Create, though you can use other solvers). You will:\n",
    "* Run LASSO with different L1 penalties.\n",
    "* Choose best L1 penalty using a validation set.\n",
    "* Choose best L1 penalty using a validation set, with additional constraint on the size of subset.\n",
    "\n",
    "In the second notebook, you will implement your own LASSO solver, using coordinate descent. "
   ]
  },
  {
   "cell_type": "markdown",
   "metadata": {},
   "source": [
    "# Fire up graphlab create"
   ]
  },
  {
   "cell_type": "code",
   "execution_count": 15,
   "metadata": {
    "collapsed": true
   },
   "outputs": [],
   "source": [
    "import graphlab\n",
    "import numpy as np"
   ]
  },
  {
   "cell_type": "markdown",
   "metadata": {},
   "source": [
    "# Load in house sales data\n",
    "\n",
    "Dataset is from house sales in King County, the region where the city of Seattle, WA is located."
   ]
  },
  {
   "cell_type": "code",
   "execution_count": 2,
   "metadata": {
    "collapsed": false,
    "scrolled": true
   },
   "outputs": [
    {
     "name": "stderr",
     "output_type": "stream",
     "text": [
      "[INFO] \u001b[1;32m1451853120 : INFO:     (initialize_globals_from_environment:282): Setting configuration variable GRAPHLAB_FILEIO_ALTERNATIVE_SSL_CERT_FILE to /Users/joebooth/.graphlab/anaconda/lib/python2.7/site-packages/certifi/cacert.pem\n",
      "\u001b[0m\u001b[1;32m1451853120 : INFO:     (initialize_globals_from_environment:282): Setting configuration variable GRAPHLAB_FILEIO_ALTERNATIVE_SSL_CERT_DIR to \n",
      "\u001b[0mThis non-commercial license of GraphLab Create is assigned to joe@joebooth.com and will expire on October 09, 2016. For commercial licensing options, visit https://dato.com/buy/.\n",
      "\n",
      "[INFO] Start server at: ipc:///tmp/graphlab_server-926 - Server binary: /Users/joebooth/.graphlab/anaconda/lib/python2.7/site-packages/graphlab/unity_server - Server log: /tmp/graphlab_server_1451853120.log\n",
      "[INFO] GraphLab Server Version: 1.7.1\n"
     ]
    }
   ],
   "source": [
    "sales = graphlab.SFrame('kc_house_data.gl/')"
   ]
  },
  {
   "cell_type": "markdown",
   "metadata": {},
   "source": [
    "# Create new features"
   ]
  },
  {
   "cell_type": "markdown",
   "metadata": {},
   "source": [
    "As in Week 2, we consider features that are some transformations of inputs."
   ]
  },
  {
   "cell_type": "code",
   "execution_count": 3,
   "metadata": {
    "collapsed": true
   },
   "outputs": [],
   "source": [
    "from math import log, sqrt\n",
    "sales['sqft_living_sqrt'] = sales['sqft_living'].apply(sqrt)\n",
    "sales['sqft_lot_sqrt'] = sales['sqft_lot'].apply(sqrt)\n",
    "sales['bedrooms_square'] = sales['bedrooms']*sales['bedrooms']\n",
    "\n",
    "# In the dataset, 'floors' was defined with type string, \n",
    "# so we'll convert them to float, before creating a new feature.\n",
    "sales['floors'] = sales['floors'].astype(float) \n",
    "sales['floors_square'] = sales['floors']*sales['floors']"
   ]
  },
  {
   "cell_type": "markdown",
   "metadata": {},
   "source": [
    "* Squaring bedrooms will increase the separation between not many bedrooms (e.g. 1) and lots of bedrooms (e.g. 4) since 1^2 = 1 but 4^2 = 16. Consequently this variable will mostly affect houses with many bedrooms.\n",
    "* On the other hand, taking square root of sqft_living will decrease the separation between big house and small house. The owner may not be exactly twice as happy for getting a house that is twice as big."
   ]
  },
  {
   "cell_type": "markdown",
   "metadata": {},
   "source": [
    "# Learn regression weights with L1 penalty"
   ]
  },
  {
   "cell_type": "markdown",
   "metadata": {},
   "source": [
    "Let us fit a model with all the features available, plus the features we just created above."
   ]
  },
  {
   "cell_type": "code",
   "execution_count": 4,
   "metadata": {
    "collapsed": false
   },
   "outputs": [],
   "source": [
    "all_features = ['bedrooms', 'bedrooms_square',\n",
    "            'bathrooms',\n",
    "            'sqft_living', 'sqft_living_sqrt',\n",
    "            'sqft_lot', 'sqft_lot_sqrt',\n",
    "            'floors', 'floors_square',\n",
    "            'waterfront', 'view', 'condition', 'grade',\n",
    "            'sqft_above',\n",
    "            'sqft_basement',\n",
    "            'yr_built', 'yr_renovated']"
   ]
  },
  {
   "cell_type": "markdown",
   "metadata": {},
   "source": [
    "Applying L1 penalty requires adding an extra parameter (`l1_penalty`) to the linear regression call in GraphLab Create. (Other tools may have separate implementations of LASSO.)  Note that it's important to set `l2_penalty=0` to ensure we don't introduce an additional L2 penalty."
   ]
  },
  {
   "cell_type": "code",
   "execution_count": 5,
   "metadata": {
    "collapsed": false
   },
   "outputs": [
    {
     "name": "stdout",
     "output_type": "stream",
     "text": [
      "PROGRESS: Linear regression:\n",
      "PROGRESS: --------------------------------------------------------\n",
      "PROGRESS: Number of examples          : 21613\n",
      "PROGRESS: Number of features          : 17\n",
      "PROGRESS: Number of unpacked features : 17\n",
      "PROGRESS: Number of coefficients    : 18\n",
      "PROGRESS: Starting Accelerated Gradient (FISTA)\n",
      "PROGRESS: --------------------------------------------------------\n",
      "PROGRESS: +-----------+----------+-----------+--------------+--------------------+---------------+\n",
      "PROGRESS: | Iteration | Passes   | Step size | Elapsed Time | Training-max_error | Training-rmse |\n",
      "PROGRESS: +-----------+----------+-----------+--------------+--------------------+---------------+\n",
      "PROGRESS: Tuning step size. First iteration could take longer than subsequent iterations.\n",
      "PROGRESS: | 1         | 2        | 0.000002  | 1.475363     | 6962915.603493     | 426631.749026 |\n",
      "PROGRESS: | 2         | 3        | 0.000002  | 1.513679     | 6843144.200219     | 392488.929838 |\n",
      "PROGRESS: | 3         | 4        | 0.000002  | 1.559881     | 6831900.032123     | 385340.166783 |\n",
      "PROGRESS: | 4         | 5        | 0.000002  | 1.603203     | 6847166.848958     | 384842.383767 |\n",
      "PROGRESS: | 5         | 6        | 0.000002  | 1.643746     | 6869667.895833     | 385998.458623 |\n",
      "PROGRESS: | 6         | 7        | 0.000002  | 1.681351     | 6847177.773672     | 380824.455891 |\n",
      "PROGRESS: +-----------+----------+-----------+--------------+--------------------+---------------+\n",
      "PROGRESS: TERMINATED: Iteration limit reached.\n",
      "PROGRESS: This model may not be optimal. To improve it, consider increasing `max_iterations`.\n"
     ]
    }
   ],
   "source": [
    "model_all = graphlab.linear_regression.create(sales, target='price', features=all_features,\n",
    "                                              validation_set=None, \n",
    "                                              l2_penalty=0., l1_penalty=1e10)"
   ]
  },
  {
   "cell_type": "markdown",
   "metadata": {},
   "source": [
    "Find what features had non-zero weight."
   ]
  },
  {
   "cell_type": "code",
   "execution_count": 12,
   "metadata": {
    "collapsed": false
   },
   "outputs": [
    {
     "name": "stdout",
     "output_type": "stream",
     "text": [
      "+------------------+-------+---------------+\n",
      "|       name       | index |     value     |\n",
      "+------------------+-------+---------------+\n",
      "|   (intercept)    |  None |  274873.05595 |\n",
      "|     bedrooms     |  None |      0.0      |\n",
      "| bedrooms_square  |  None |      0.0      |\n",
      "|    bathrooms     |  None | 8468.53108691 |\n",
      "|   sqft_living    |  None | 24.4207209824 |\n",
      "| sqft_living_sqrt |  None | 350.060553386 |\n",
      "|     sqft_lot     |  None |      0.0      |\n",
      "|  sqft_lot_sqrt   |  None |      0.0      |\n",
      "|      floors      |  None |      0.0      |\n",
      "|  floors_square   |  None |      0.0      |\n",
      "|    waterfront    |  None |      0.0      |\n",
      "|       view       |  None |      0.0      |\n",
      "|    condition     |  None |      0.0      |\n",
      "|      grade       |  None | 842.068034898 |\n",
      "|    sqft_above    |  None | 20.0247224171 |\n",
      "|  sqft_basement   |  None |      0.0      |\n",
      "|     yr_built     |  None |      0.0      |\n",
      "|   yr_renovated   |  None |      0.0      |\n",
      "+------------------+-------+---------------+\n",
      "[18 rows x 3 columns]\n",
      "\n"
     ]
    }
   ],
   "source": [
    "model_all.coefficients.print_rows(100)"
   ]
  },
  {
   "cell_type": "markdown",
   "metadata": {},
   "source": [
    "Note that a majority of the weights have been set to zero. So by setting an L1 penalty that's large enough, we are performing a subset selection. \n",
    "\n",
    "***QUIZ QUESTION***:\n",
    "According to this list of weights, which of the features have been chosen? "
   ]
  },
  {
   "cell_type": "markdown",
   "metadata": {},
   "source": [
    "# Selecting an L1 penalty"
   ]
  },
  {
   "cell_type": "markdown",
   "metadata": {},
   "source": [
    "To find a good L1 penalty, we will explore multiple values using a validation set. Let us do three way split into train, validation, and test sets:\n",
    "* Split our sales data into 2 sets: training and test\n",
    "* Further split our training data into two sets: train, validation\n",
    "\n",
    "Be *very* careful that you use seed = 1 to ensure you get the same answer!"
   ]
  },
  {
   "cell_type": "code",
   "execution_count": 13,
   "metadata": {
    "collapsed": true
   },
   "outputs": [],
   "source": [
    "(training_and_validation, testing) = sales.random_split(.9,seed=1) # initial train/test split\n",
    "(training, validation) = training_and_validation.random_split(0.5, seed=1) # split training into train and validate"
   ]
  },
  {
   "cell_type": "markdown",
   "metadata": {},
   "source": [
    "Next, we write a loop that does the following:\n",
    "* For `l1_penalty` in [10^1, 10^1.5, 10^2, 10^2.5, ..., 10^7] (to get this in Python, type `np.logspace(1, 7, num=13)`.)\n",
    "    * Fit a regression model with a given `l1_penalty` on TRAIN data. Specify `l1_penalty=l1_penalty` and `l2_penalty=0.` in the parameter list.\n",
    "    * Compute the RSS on VALIDATION data (here you will want to use `.predict()`) for that `l1_penalty`\n",
    "* Report which `l1_penalty` produced the lowest RSS on validation data.\n",
    "\n",
    "When you call `linear_regression.create()` make sure you set `validation_set = None`.\n",
    "\n",
    "Note: you can turn off the print out of `linear_regression.create()` with `verbose = False`"
   ]
  },
  {
   "cell_type": "code",
   "execution_count": 48,
   "metadata": {
    "collapsed": true
   },
   "outputs": [],
   "source": [
    "results = np.full(ki,np.finfo(np.float).max)"
   ]
  },
  {
   "cell_type": "code",
   "execution_count": 113,
   "metadata": {
    "collapsed": false
   },
   "outputs": [
    {
     "name": "stdout",
     "output_type": "stream",
     "text": [
      "(0, 10.0, 625766285142459.9)\n",
      "(1, 31.622776601683793, 625766285362394.1)\n",
      "(2, 100.0, 625766286057885.0)\n",
      "(3, 316.22776601683796, 625766288257224.6)\n",
      "(4, 1000.0, 625766295212186.8)\n",
      "(5, 3162.2776601683795, 625766317206080.5)\n",
      "(6, 10000.0, 625766386760658.1)\n",
      "(7, 31622.776601683792, 625766606749278.5)\n",
      "(8, 100000.0, 625767302791634.1)\n",
      "(9, 316227.76601683791, 625769507643886.2)\n",
      "(10, 1000000.0, 625776517727024.0)\n",
      "(11, 3162277.6601683795, 625799062845467.0)\n",
      "(12, 10000000.0, 625883719085425.2)\n"
     ]
    }
   ],
   "source": [
    "ki = 13\n",
    "penalties = np.empty(ki)\n",
    "results = np.full(ki,np.finfo(np.float).max)\n",
    "models = list()\n",
    "i = 0;\n",
    "for l1_penalty in np.logspace(1, 7, num=ki):\n",
    "#     * Fit a regression model with a given `l1_penalty` on TRAIN data. \n",
    "#       Specify `l1_penalty=l1_penalty` and `l2_penalty=0.` in the parameter list.\n",
    "    m = graphlab.linear_regression.create(training, target='price', features=all_features,\n",
    "                                              validation_set=None, \n",
    "                                              l1_penalty=l1_penalty, l2_penalty=0., \n",
    "                                              verbose = False)\n",
    "    models.append(m)\n",
    "#     * Compute the RSS on VALIDATION data \n",
    "#       (here you will want to use `.predict()`) for that `l1_penalty`\n",
    "        # Compute validation error using validation set just formed\n",
    "    predict = m.predict(validation)\n",
    "    score = predict - validation['price'] \n",
    "    validation_rss = (score*score).sum()\n",
    "        \n",
    "    results[i] = validation_rss\n",
    "    penalties[i] = l1_penalty\n",
    "    if (np.amin(results) == validation_rss):\n",
    "        min_l1 = l1_penalty\n",
    "        min_result = validation_rss\n",
    "        min_i = i\n",
    "    print (i, l1_penalty, validation_rss)\n",
    "    i += 1\n",
    "\n",
    "# * Report which `l1_penalty` produced the lowest RSS on validation data.\n",
    "\n",
    "# When you call `linear_regression.create()` make sure you set `validation_set = None`.\n",
    "\n",
    "# Note: you can turn off the print out of `linear_regression.create()` with `verbose = False`    \n",
    "    "
   ]
  },
  {
   "cell_type": "code",
   "execution_count": 114,
   "metadata": {
    "collapsed": false,
    "scrolled": true
   },
   "outputs": [
    {
     "name": "stdout",
     "output_type": "stream",
     "text": [
      "[  6.25766285e+14   6.25766285e+14   6.25766286e+14   6.25766288e+14\n",
      "   6.25766295e+14   6.25766317e+14   6.25766387e+14   6.25766607e+14\n",
      "   6.25767303e+14   6.25769508e+14   6.25776518e+14   6.25799063e+14\n",
      "   6.25883719e+14]\n",
      "[  1.00000000e+01   3.16227766e+01   1.00000000e+02   3.16227766e+02\n",
      "   1.00000000e+03   3.16227766e+03   1.00000000e+04   3.16227766e+04\n",
      "   1.00000000e+05   3.16227766e+05   1.00000000e+06   3.16227766e+06\n",
      "   1.00000000e+07]\n"
     ]
    }
   ],
   "source": [
    "print(results)\n",
    "print(penalties)\n",
    "# print(models)"
   ]
  },
  {
   "cell_type": "markdown",
   "metadata": {},
   "source": [
    "*** QUIZ QUESTIONS ***\n",
    "1. What was the best value for the `l1_penalty`?\n",
    "2. What is the RSS on TEST data of the model with the best `l1_penalty`?"
   ]
  },
  {
   "cell_type": "code",
   "execution_count": 115,
   "metadata": {
    "collapsed": false
   },
   "outputs": [
    {
     "name": "stdout",
     "output_type": "stream",
     "text": [
      "(0, 10.0, 625766285142459.9)\n"
     ]
    }
   ],
   "source": [
    "# What was the best value for the l1_penalty?\n",
    "print (min_i, min_l1, min_result)"
   ]
  },
  {
   "cell_type": "code",
   "execution_count": 116,
   "metadata": {
    "collapsed": false
   },
   "outputs": [
    {
     "name": "stdout",
     "output_type": "stream",
     "text": [
      "1.56983602382e+14\n"
     ]
    }
   ],
   "source": [
    "# What is the RSS on TEST data of the model with the best l1_penalty?\n",
    "predict = models[min_i].predict(testing)\n",
    "score = predict - testing['price'] \n",
    "testing_rss = (score*score).sum()\n",
    "print (testing_rss)"
   ]
  },
  {
   "cell_type": "markdown",
   "metadata": {},
   "source": [
    "***QUIZ QUESTION***\n",
    "Also, using this value of L1 penalty, how many nonzero weights do you have?"
   ]
  },
  {
   "cell_type": "code",
   "execution_count": 117,
   "metadata": {
    "collapsed": false
   },
   "outputs": [
    {
     "name": "stdout",
     "output_type": "stream",
     "text": [
      "+------------------+-------+------------------+\n",
      "|       name       | index |      value       |\n",
      "+------------------+-------+------------------+\n",
      "|   (intercept)    |  None |  18993.4272128   |\n",
      "|     bedrooms     |  None |  7936.96767903   |\n",
      "| bedrooms_square  |  None |  936.993368193   |\n",
      "|    bathrooms     |  None |  25409.5889341   |\n",
      "|   sqft_living    |  None |  39.1151363797   |\n",
      "| sqft_living_sqrt |  None |  1124.65021281   |\n",
      "|     sqft_lot     |  None | 0.00348361822299 |\n",
      "|  sqft_lot_sqrt   |  None |  148.258391011   |\n",
      "|      floors      |  None |   21204.335467   |\n",
      "|  floors_square   |  None |  12915.5243361   |\n",
      "|    waterfront    |  None |  601905.594545   |\n",
      "|       view       |  None |  93312.8573119   |\n",
      "|    condition     |  None |  6609.03571245   |\n",
      "|      grade       |  None |  6206.93999188   |\n",
      "|    sqft_above    |  None |  43.2870534193   |\n",
      "|  sqft_basement   |  None |  122.367827534   |\n",
      "|     yr_built     |  None |  9.43363539372   |\n",
      "|   yr_renovated   |  None |  56.0720034488   |\n",
      "+------------------+-------+------------------+\n",
      "[18 rows x 3 columns]\n",
      "\n"
     ]
    }
   ],
   "source": [
    "models[min_i].coefficients.print_rows(100)\n",
    "# models[12]\n",
    "# print (np.logspace(1, 7, num=ki))"
   ]
  },
  {
   "cell_type": "code",
   "execution_count": 120,
   "metadata": {
    "collapsed": false
   },
   "outputs": [
    {
     "data": {
      "text/plain": [
       "10000000000.0"
      ]
     },
     "execution_count": 120,
     "metadata": {},
     "output_type": "execute_result"
    }
   ],
   "source": [
    "1e10"
   ]
  },
  {
   "cell_type": "markdown",
   "metadata": {},
   "source": [
    "# Limit the number of nonzero weights\n",
    "\n",
    "What if we absolutely wanted to limit ourselves to, say, 7 features? This may be important if we want to derive \"a rule of thumb\" --- an interpretable model that has only a few features in them."
   ]
  },
  {
   "cell_type": "markdown",
   "metadata": {},
   "source": [
    "In this section, you are going to implement a simple, two phase procedure to achive this goal:\n",
    "1. Explore a large range of `l1_penalty` values to find a narrow region of `l1_penalty` values where models are likely to have the desired number of non-zero weights.\n",
    "2. Further explore the narrow region you found to find a good value for `l1_penalty` that achieves the desired sparsity.  Here, we will again use a validation set to choose the best value for `l1_penalty`."
   ]
  },
  {
   "cell_type": "code",
   "execution_count": 128,
   "metadata": {
    "collapsed": true
   },
   "outputs": [],
   "source": [
    "max_nonzeros = 7"
   ]
  },
  {
   "cell_type": "markdown",
   "metadata": {},
   "source": [
    "## Exploring the larger range of values to find a narrow range with the desired sparsity\n",
    "\n",
    "Let's define a wide range of possible `l1_penalty_values`:"
   ]
  },
  {
   "cell_type": "code",
   "execution_count": 119,
   "metadata": {
    "collapsed": false
   },
   "outputs": [
    {
     "name": "stdout",
     "output_type": "stream",
     "text": [
      "[  1.00000000e+08   1.27427499e+08   1.62377674e+08   2.06913808e+08\n",
      "   2.63665090e+08   3.35981829e+08   4.28133240e+08   5.45559478e+08\n",
      "   6.95192796e+08   8.85866790e+08   1.12883789e+09   1.43844989e+09\n",
      "   1.83298071e+09   2.33572147e+09   2.97635144e+09   3.79269019e+09\n",
      "   4.83293024e+09   6.15848211e+09   7.84759970e+09   1.00000000e+10]\n"
     ]
    }
   ],
   "source": [
    "l1_penalty_values = np.logspace(8, 10, num=20)\n",
    "print(l1_penalty_values)"
   ]
  },
  {
   "cell_type": "markdown",
   "metadata": {},
   "source": [
    "Now, implement a loop that search through this space of possible `l1_penalty` values:\n",
    "\n",
    "* For `l1_penalty` in `np.logspace(8, 10, num=20)`:\n",
    "    * Fit a regression model with a given `l1_penalty` on TRAIN data. Specify `l1_penalty=l1_penalty` and `l2_penalty=0.` in the parameter list. When you call `linear_regression.create()` make sure you set `validation_set = None`\n",
    "    * Extract the weights of the model and count the number of nonzeros. Save the number of nonzeros to a list.\n",
    "        * *Hint: `model['coefficients']['value']` gives you an SArray with the parameters you learned.  If you call the method `.nnz()` on it, you will find the number of non-zero parameters!* "
   ]
  },
  {
   "cell_type": "code",
   "execution_count": 131,
   "metadata": {
    "collapsed": false
   },
   "outputs": [
    {
     "name": "stdout",
     "output_type": "stream",
     "text": [
      "(0, 100000000.0, 627492659875075.5, 18.0, 100000000.0, 1.7976931348623157e+308)\n",
      "(1, 127427498.57031322, 628210516770747.8, 18.0, 127427498.57031322, 1.7976931348623157e+308)\n",
      "(2, 162377673.91887242, 629176689541061.1, 18.0, 162377673.91887242, 1.7976931348623157e+308)\n",
      "(3, 206913808.11147901, 630650082718673.8, 18.0, 206913808.11147901, 1.7976931348623157e+308)\n",
      "(4, 263665089.87303555, 632940229286984.0, 17.0, 263665089.87303555, 1.7976931348623157e+308)\n",
      "(5, 335981828.62837881, 636268140229529.0, 17.0, 335981828.62837881, 1.7976931348623157e+308)\n",
      "(6, 428133239.8719396, 641261198311188.2, 17.0, 428133239.8719396, 1.7976931348623157e+308)\n",
      "(7, 545559478.11685145, 648983455376338.2, 17.0, 545559478.11685145, 1.7976931348623157e+308)\n",
      "(8, 695192796.17755914, 660962217696068.4, 17.0, 695192796.17755914, 1.7976931348623157e+308)\n",
      "(9, 885866790.41008317, 677261520727858.6, 16.0, 885866790.41008317, 1.7976931348623157e+308)\n",
      "(10, 1128837891.6846883, 701046815867077.6, 15.0, 1128837891.6846883, 1.7976931348623157e+308)\n",
      "(11, 1438449888.2876658, 737850622829047.9, 15.0, 1438449888.2876658, 1.7976931348623157e+308)\n",
      "(12, 1832980710.8324375, 796163109639832.8, 13.0, 1832980710.8324375, 1.7976931348623157e+308)\n",
      "(13, 2335721469.0901213, 869018172893693.9, 12.0, 2335721469.0901213, 1.7976931348623157e+308)\n",
      "(14, 2976351441.6313133, 966925692362084.5, 10.0, 2976351441.6313133, 1.7976931348623157e+308)\n",
      "(15, 3792690190.7322536, 1081867592324110.6, 6.0, 2976351441.6313133, 3792690190.7322536)\n",
      "(16, 4832930238.5717525, 1244927360324959.0, 5.0, 2976351441.6313133, 3792690190.7322536)\n",
      "(17, 6158482110.6602545, 1384161490235113.0, 3.0, 2976351441.6313133, 3792690190.7322536)\n",
      "(18, 7847599703.5146227, 1230794720455648.5, 1.0, 2976351441.6313133, 3792690190.7322536)\n",
      "(19, 10000000000.0, 1229157160638600.0, 1.0, 2976351441.6313133, 3792690190.7322536)\n"
     ]
    }
   ],
   "source": [
    "ki = len(l1_penalty_values)\n",
    "penalties = np.empty(ki)\n",
    "nonzeros = np.empty(ki)\n",
    "results = np.full(ki,np.finfo(np.float).max)\n",
    "models = list()\n",
    "i = 0;\n",
    "l1_penalty_max = np.finfo(np.float).max\n",
    "l1_penalty_min = 0\n",
    "for l1_penalty in l1_penalty_values:\n",
    "    m = graphlab.linear_regression.create(training, target='price', features=all_features,\n",
    "                                              validation_set=None, \n",
    "                                              l1_penalty=l1_penalty, l2_penalty=0., \n",
    "                                              verbose = False)\n",
    "    models.append(m)\n",
    "    predict = m.predict(validation)\n",
    "    score = predict - validation['price'] \n",
    "    validation_rss = (score*score).sum()\n",
    "    \n",
    "    nonzeros[i] = m['coefficients']['value'].nnz()\n",
    "        \n",
    "    results[i] = validation_rss\n",
    "    penalties[i] = l1_penalty\n",
    "    \n",
    "    if (nonzeros[i] > max_nonzeros):\n",
    "       l1_penalty_min = max(l1_penalty_min, l1_penalty)\n",
    "    if (nonzeros[i] < max_nonzeros):\n",
    "       l1_penalty_max = min(l1_penalty_max, l1_penalty)\n",
    "\n",
    "\n",
    "    \n",
    "    if (np.amin(results) == validation_rss):\n",
    "        min_l1 = l1_penalty\n",
    "        min_result = validation_rss\n",
    "        min_i = i\n",
    "    print (i, l1_penalty, validation_rss, nonzeros[i], l1_penalty_min, l1_penalty_max)\n",
    "    i += 1"
   ]
  },
  {
   "cell_type": "markdown",
   "metadata": {},
   "source": [
    "Out of this large range, we want to find the two ends of our desired narrow range of `l1_penalty`.  At one end, we will have `l1_penalty` values that have too few non-zeros, and at the other end, we will have an `l1_penalty` that has too many non-zeros.  \n",
    "\n",
    "More formally, find:\n",
    "* The largest `l1_penalty` that has more non-zeros than `max_nonzero` (if we pick a penalty smaller than this value, we will definitely have too many non-zero weights)\n",
    "    * Store this value in the variable `l1_penalty_min` (we will use it later)\n",
    "* The smallest `l1_penalty` that has fewer non-zeros than `max_nonzero` (if we pick a penalty larger than this value, we will definitely have too few non-zero weights)\n",
    "    * Store this value in the variable `l1_penalty_max` (we will use it later)\n",
    "\n",
    "\n",
    "*Hint: there are many ways to do this, e.g.:*\n",
    "* Programmatically within the loop above\n",
    "* Creating a list with the number of non-zeros for each value of `l1_penalty` and inspecting it to find the appropriate boundaries."
   ]
  },
  {
   "cell_type": "code",
   "execution_count": 132,
   "metadata": {
    "collapsed": false
   },
   "outputs": [
    {
     "name": "stdout",
     "output_type": "stream",
     "text": [
      "(2976351441.6313133, 3792690190.7322536)\n"
     ]
    }
   ],
   "source": [
    "# min(12,2)\n",
    "\n",
    "# l1_penalty_min = largest l1_penalty\n",
    "#   where more non-zeros than 7\n",
    "#   if (non-zeros > 7):\n",
    "#       l1_penalty_min = max(l1_penalty_min, l1_penalty)\n",
    "\n",
    "# l1_penalty_max = smallest l1_penalty\n",
    "#   where fewer non-zeros than 7\n",
    "#   if (non-zeros < 7):\n",
    "#       l1_penalty_max = min(l1_penalty_min, l1_penalty)\n",
    "\n",
    "\n",
    "print (l1_penalty_min, l1_penalty_max)\n",
    "# l1_penalty_min = \n",
    "# l1_penalty_max = \n",
    "\n"
   ]
  },
  {
   "cell_type": "markdown",
   "metadata": {},
   "source": [
    "***QUIZ QUESTIONS***\n",
    "\n",
    "What values did you find for `l1_penalty_min` and`l1_penalty_max`? "
   ]
  },
  {
   "cell_type": "code",
   "execution_count": null,
   "metadata": {
    "collapsed": true
   },
   "outputs": [],
   "source": [
    "# max = 3,792,690,190 = 3,792,000,000 = 3792000000\n",
    "# min = 2,976,351,441 = 2,976,000,000 = 2976000000"
   ]
  },
  {
   "cell_type": "markdown",
   "metadata": {},
   "source": [
    "## Exploring the narrow range of values to find the solution with the right number of non-zeros that has lowest RSS on the validation set \n",
    "\n",
    "We will now explore the narrow region of `l1_penalty` values we found:"
   ]
  },
  {
   "cell_type": "code",
   "execution_count": 138,
   "metadata": {
    "collapsed": true
   },
   "outputs": [],
   "source": [
    "l1_penalty_values = np.linspace(l1_penalty_min,l1_penalty_max,20)"
   ]
  },
  {
   "cell_type": "markdown",
   "metadata": {},
   "source": [
    "* For `l1_penalty` in `np.linspace(l1_penalty_min,l1_penalty_max,20)`:\n",
    "    * Fit a regression model with a given `l1_penalty` on TRAIN data. Specify `l1_penalty=l1_penalty` and `l2_penalty=0.` in the parameter list. When you call `linear_regression.create()` make sure you set `validation_set = None`\n",
    "    * Measure the RSS of the learned model on the VALIDATION set\n",
    "\n",
    "Find the model that the lowest RSS on the VALIDATION set and has sparsity *equal* to `max_nonzero`."
   ]
  },
  {
   "cell_type": "code",
   "execution_count": 144,
   "metadata": {
    "collapsed": false
   },
   "outputs": [
    {
     "name": "stdout",
     "output_type": "stream",
     "text": [
      "(0, 2976351441.6313133, 1060799531763287.8, 10.0, 100000000.0, 0)\n",
      "(1, 3019316638.9524155, 1060799531763287.8, 10.0, 100000000.0, 0)\n",
      "(2, 3062281836.2735176, 1060799531763287.8, 10.0, 100000000.0, 0)\n",
      "(3, 3105247033.5946198, 1060799531763287.8, 10.0, 100000000.0, 0)\n",
      "(4, 3148212230.9157219, 1060799531763287.8, 10.0, 100000000.0, 0)\n",
      "(5, 3191177428.236824, 1060799531763287.8, 10.0, 100000000.0, 0)\n",
      "(6, 3234142625.5579262, 1060799531763287.8, 10.0, 100000000.0, 0)\n",
      "(7, 3277107822.8790283, 1060799531763287.8, 10.0, 100000000.0, 0)\n",
      "(8, 3320073020.2001305, 1060799531763287.8, 8.0, 100000000.0, 0)\n",
      "(9, 3363038217.5212326, 1060799531763287.8, 8.0, 100000000.0, 0)\n",
      "(10, 3406003414.8423347, 1060799531763287.8, 8.0, 100000000.0, 0)\n",
      "(11, 3448968612.1634369, 1046937488751711.1, 7.0, 3448968612.1634369, 11)\n",
      "(12, 3491933809.484539, 1051147625612860.9, 7.0, 3448968612.1634369, 11)\n",
      "(13, 3534899006.8056412, 1055992735342999.1, 7.0, 3448968612.1634369, 11)\n",
      "(14, 3577864204.1267428, 1060799531763287.8, 7.0, 3448968612.1634369, 11)\n",
      "(15, 3620829401.447845, 1060799531763287.8, 6.0, 3448968612.1634369, 11)\n",
      "(16, 3663794598.7689471, 1060799531763287.8, 6.0, 3448968612.1634369, 11)\n",
      "(17, 3706759796.0900493, 1060799531763287.8, 6.0, 3448968612.1634369, 11)\n",
      "(18, 3749724993.4111514, 1060799531763287.8, 6.0, 3448968612.1634369, 11)\n",
      "(19, 3792690190.7322536, 1060799531763287.8, 6.0, 3448968612.1634369, 11)\n"
     ]
    }
   ],
   "source": [
    "ki = len(l1_penalty_values)\n",
    "penalties = np.empty(ki)\n",
    "nonzeros = np.empty(ki)\n",
    "results = np.full(ki,np.finfo(np.float).max)\n",
    "models = list()\n",
    "i = 0;\n",
    "for l1_penalty in l1_penalty_values:\n",
    "    m = graphlab.linear_regression.create(training, target='price', features=all_features,\n",
    "                                              validation_set=None, \n",
    "                                              l1_penalty=l1_penalty, l2_penalty=0., \n",
    "                                              verbose = False)\n",
    "    models.append(m)\n",
    "    \n",
    "    nonzeros[i] = m['coefficients']['value'].nnz()\n",
    "    \n",
    "    if (nonzeros[i] == max_nonzeros):\n",
    "        predict = m.predict(validation)\n",
    "        score = predict - validation['price'] \n",
    "        validation_rss = (score*score).sum()\n",
    "        results[i] = validation_rss\n",
    "        penalties[i] = l1_penalty\n",
    "\n",
    "        if (np.amin(results) == validation_rss):\n",
    "            min_l1 = l1_penalty\n",
    "            min_result = validation_rss\n",
    "            min_i = i\n",
    "            \n",
    "    print (i, l1_penalty, validation_rss, nonzeros[i], min_l1, min_i)\n",
    "    i += 1"
   ]
  },
  {
   "cell_type": "markdown",
   "metadata": {},
   "source": [
    "***QUIZ QUESTIONS***\n",
    "1. What value of `l1_penalty` in our narrow range has the lowest RSS on the VALIDATION set and has sparsity *equal* to `max_nonzeros`?\n",
    "2. What features in this model have non-zero coefficients?"
   ]
  },
  {
   "cell_type": "code",
   "execution_count": 145,
   "metadata": {
    "collapsed": false
   },
   "outputs": [
    {
     "data": {
      "text/plain": [
       "3448968612.1634369"
      ]
     },
     "execution_count": 145,
     "metadata": {},
     "output_type": "execute_result"
    }
   ],
   "source": [
    "min_l1\n",
    "# 3448968612 = 3448,968,612 = 3448,000,000 = 3448000000"
   ]
  },
  {
   "cell_type": "code",
   "execution_count": 146,
   "metadata": {
    "collapsed": false
   },
   "outputs": [
    {
     "name": "stdout",
     "output_type": "stream",
     "text": [
      "+------------------+-------+---------------+\n",
      "|       name       | index |     value     |\n",
      "+------------------+-------+---------------+\n",
      "|   (intercept)    |  None | 222253.192544 |\n",
      "|     bedrooms     |  None | 661.722717782 |\n",
      "| bedrooms_square  |  None |      0.0      |\n",
      "|    bathrooms     |  None | 15873.9572593 |\n",
      "|   sqft_living    |  None | 32.4102214513 |\n",
      "| sqft_living_sqrt |  None | 690.114773313 |\n",
      "|     sqft_lot     |  None |      0.0      |\n",
      "|  sqft_lot_sqrt   |  None |      0.0      |\n",
      "|      floors      |  None |      0.0      |\n",
      "|  floors_square   |  None |      0.0      |\n",
      "|    waterfront    |  None |      0.0      |\n",
      "|       view       |  None |      0.0      |\n",
      "|    condition     |  None |      0.0      |\n",
      "|      grade       |  None | 2899.42026975 |\n",
      "|    sqft_above    |  None | 30.0115753022 |\n",
      "|  sqft_basement   |  None |      0.0      |\n",
      "|     yr_built     |  None |      0.0      |\n",
      "|   yr_renovated   |  None |      0.0      |\n",
      "+------------------+-------+---------------+\n",
      "[18 rows x 3 columns]\n",
      "\n"
     ]
    }
   ],
   "source": [
    "models[min_i].coefficients.print_rows(100)"
   ]
  },
  {
   "cell_type": "code",
   "execution_count": null,
   "metadata": {
    "collapsed": true
   },
   "outputs": [],
   "source": []
  }
 ],
 "metadata": {
  "kernelspec": {
   "display_name": "Python 2",
   "language": "python",
   "name": "python2"
  },
  "language_info": {
   "codemirror_mode": {
    "name": "ipython",
    "version": 2
   },
   "file_extension": ".py",
   "mimetype": "text/x-python",
   "name": "python",
   "nbconvert_exporter": "python",
   "pygments_lexer": "ipython2",
   "version": "2.7.10"
  }
 },
 "nbformat": 4,
 "nbformat_minor": 0
}
