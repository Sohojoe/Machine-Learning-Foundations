{
 "cells": [
  {
   "cell_type": "code",
   "execution_count": 2,
   "metadata": {
    "collapsed": true
   },
   "outputs": [],
   "source": [
    "import numpy as np"
   ]
  },
  {
   "cell_type": "code",
   "execution_count": 81,
   "metadata": {
    "collapsed": false
   },
   "outputs": [
    {
     "name": "stdout",
     "output_type": "stream",
     "text": [
      "0.666590721926\n",
      "0.67\n"
     ]
    }
   ],
   "source": [
    "def sigmoid(z):    \n",
    "    return 1./(1+ np.exp(-z))\n",
    "\n",
    "p = 2.5*(1-sigmoid(2.5*1)) + 0.3*((1-sigmoid(0.3*1))) + 2.8*(1-sigmoid(2.8*1))+0.5*(1-sigmoid(0.5*1))\n",
    "print (p)\n",
    "print round(p,2)\n",
    "\n",
    "\n",
    "# p1 = 2.5*(1- (1./(1+ np.exp(-2.5))))\n",
    "# p2 = 0.3*(1-1- (1./(1+` np.exp(-0.3))))\n",
    "# p3 = 2.8*(1- (1./(1+ np.exp(-2.8))))\n",
    "# p4 = 0.5*(1- (1./(1+ np.exp(-0.5))))\n",
    "\n",
    "# print (p1,p2,p3,p4)\n",
    "# print (p1+p2+p3+p4)\n",
    "# print round((p1+p2+p3+p4),2)\n"
   ]
  },
  {
   "cell_type": "code",
   "execution_count": 64,
   "metadata": {
    "collapsed": false
   },
   "outputs": [
    {
     "name": "stdout",
     "output_type": "stream",
     "text": [
      "(0.4, -2.3333333333333335, 0.35714285714285715, 2.0)\n"
     ]
    }
   ],
   "source": [
    "p1 = 1 / (1 * 2.5) \n",
    "p2 = 1-(1 / (1 * 0.3)) \n",
    "p3 = 1 / (1 * 2.8) \n",
    "p4 = 1 / (1 * 0.5) \n",
    "\n",
    "# p1 = 1 / (1 + np.exp(-1 * 2.5))\n",
    "# p2 = 1 / (1 + np.exp(-1 * 0.3)) \n",
    "# p3 = 1 / (1 + np.exp(-1 * 2.8))\n",
    "# p4 = 1 / (1 + np.exp(-1 * 0.5) )\n",
    "\n",
    "``"
   ]
  },
  {
   "cell_type": "code",
   "execution_count": 65,
   "metadata": {
    "collapsed": false
   },
   "outputs": [
    {
     "name": "stdout",
     "output_type": "stream",
     "text": [
      "(1.5, 0.7000000000000001, 1.7999999999999996, -0.5)\n"
     ]
    }
   ],
   "source": [
    "p1 = (2.5 * (1 - p1))\n",
    "p2 = (0.3 * (0` - p2))  \n",
    "p3 = (2.8 * (1 - p3))  \n",
    "p4 = (0.5 * (1 - p4))\n",
    "\n",
    "print (p1,p2,p3,p4)"
   ]
  },
  {
   "cell_type": "code",
   "execution_count": 67,
   "metadata": {
    "collapsed": false
   },
   "outputs": [
    {
     "name": "stdout",
     "output_type": "stream",
     "text": [
      "-0.945\n",
      "-0.94\n"
     ]
    }
   ],
   "source": [
    "print (p1*p2*p3*p4)\n",
    "print round(((p1*p2*p3*p4)),2)\n",
    "# print (p1+p2+p3+p4)\n",
    "# print round(((p1+p2+p3+p4)),2)"
   ]
  },
  {
   "cell_type": "markdown",
   "metadata": {},
   "source": [
    "# Log ="
   ]
  },
  {
   "cell_type": "code",
   "execution_count": 5,
   "metadata": {
    "collapsed": false
   },
   "outputs": [
    {
     "name": "stdout",
     "output_type": "stream",
     "text": [
      "(0.92414181997875655, 0.57444251681165903, 0.94267582410113127, 0.62245933120185459)\n"
     ]
    }
   ],
   "source": [
    "p1 = 1 / ( 1 + np.exp( - (1 * 2.5) ))\n",
    "p2 = 1 / ( 1 + np.exp( - (1 * 0.3) ))\n",
    "p3 = 1 / ( 1 + np.exp( - (1 * 2.8) ))\n",
    "p4 = 1 / ( 1 + np.exp( - (1 * 0.5) ))\n",
    "print (p1,p2,p3,p4)"
   ]
  },
  {
   "cell_type": "code",
   "execution_count": 6,
   "metadata": {
    "collapsed": true
   },
   "outputs": [],
   "source": [
    "# Paritial derivate wrt 'w1'......"
   ]
  },
  {
   "cell_type": "code",
   "execution_count": 11,
   "metadata": {
    "collapsed": false
   },
   "outputs": [
    {
     "name": "stdout",
     "output_type": "stream",
     "text": [
      "(0.18964545005310862, -0.17233275504349771, 0.16050769251683245, 0.1887703343990727)\n"
     ]
    }
   ],
   "source": [
    "p1 = (2.5 * (1 - p1))\n",
    "p2 = (0.3 * (0 - p2))  \n",
    "p3 = (2.8 * (1 - p3))  \n",
    "p4 = (0.5 * (1 - p4))\n",
    "\n",
    "print (p1,p2,p3,p4)"
   ]
  },
  {
   "cell_type": "code",
   "execution_count": null,
   "metadata": {
    "collapsed": true
   },
   "outputs": [],
   "source": []
  },
  {
   "cell_type": "code",
   "execution_count": null,
   "metadata": {
    "collapsed": true
   },
   "outputs": [],
   "source": []
  },
  {
   "cell_type": "code",
   "execution_count": null,
   "metadata": {
    "collapsed": true
   },
   "outputs": [],
   "source": []
  },
  {
   "cell_type": "code",
   "execution_count": null,
   "metadata": {
    "collapsed": true
   },
   "outputs": [],
   "source": []
  },
  {
   "cell_type": "code",
   "execution_count": 12,
   "metadata": {
    "collapsed": false
   },
   "outputs": [
    {
     "name": "stdout",
     "output_type": "stream",
     "text": [
      "0.366590721926\n",
      "0.37\n"
     ]
    }
   ],
   "source": [
    "print (p1+p2+p3+p4)\n",
    "print round((p1+p2+p3+p4),2)"
   ]
  },
  {
   "cell_type": "code",
   "execution_count": null,
   "metadata": {
    "collapsed": true
   },
   "outputs": [],
   "source": []
  }
 ],
 "metadata": {
  "kernelspec": {
   "display_name": "Python 2",
   "language": "python",
   "name": "python2"
  },
  "language_info": {
   "codemirror_mode": {
    "name": "ipython",
    "version": 2
   },
   "file_extension": ".py",
   "mimetype": "text/x-python",
   "name": "python",
   "nbconvert_exporter": "python",
   "pygments_lexer": "ipython2",
   "version": "2.7.11"
  }
 },
 "nbformat": 4,
 "nbformat_minor": 0
}
